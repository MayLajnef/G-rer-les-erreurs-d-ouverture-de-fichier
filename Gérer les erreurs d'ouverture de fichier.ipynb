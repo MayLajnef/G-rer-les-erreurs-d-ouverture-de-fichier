{
 "cells": [
  {
   "cell_type": "code",
   "execution_count": 11,
   "id": "b49b6c0b",
   "metadata": {},
   "outputs": [
    {
     "name": "stdout",
     "output_type": "stream",
     "text": [
      "Veuillez entrer un chemin d'ccès à un fichier : \"C:\\Users\\Amine LAJNEF\\Tri\\Documents\\Cryptomathic_White_Paper_-_EMV_Key_Management_Explained (1).pdf\"\n",
      "Impossible d'ouvrir le fichier.\n"
     ]
    }
   ],
   "source": [
    "from pathlib import Path\n",
    "fichier = Path(input(\"Veuillez entrer un chemin d'accès à un fichier : \"))\n",
    "try: \n",
    "    fichier.read_text()\n",
    "except IOError:\n",
    "    print(\"Impossible d'ouvrir le fichier.\")\n",
    "except FileNotFoundError:\n",
    "    print(\"Fichier introuvable.\")"
   ]
  }
 ],
 "metadata": {
  "kernelspec": {
   "display_name": "Python 3 (ipykernel)",
   "language": "python",
   "name": "python3"
  },
  "language_info": {
   "codemirror_mode": {
    "name": "ipython",
    "version": 3
   },
   "file_extension": ".py",
   "mimetype": "text/x-python",
   "name": "python",
   "nbconvert_exporter": "python",
   "pygments_lexer": "ipython3",
   "version": "3.9.13"
  }
 },
 "nbformat": 4,
 "nbformat_minor": 5
}
